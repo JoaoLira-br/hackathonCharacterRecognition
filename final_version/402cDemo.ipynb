{
  "cells": [
    {
      "cell_type": "markdown",
      "metadata": {
        "id": "NpamH3FgsAZa"
      },
      "source": [
        "#Imports Required"
      ]
    },
    {
      "cell_type": "code",
      "execution_count": null,
      "metadata": {
        "colab": {
          "base_uri": "https://localhost:8080/"
        },
        "id": "Shm8rfO-dQHX",
        "outputId": "136bfb69-e59e-4357-f266-34a571a67116"
      },
      "outputs": [
        {
          "name": "stdout",
          "output_type": "stream",
          "text": [
            "Imported!\n"
          ]
        }
      ],
      "source": [
        "import os, cv2, keras\n",
        "from google.colab.patches import cv2_imshow\n",
        "from google.colab import files\n",
        "import pandas as pd\n",
        "import numpy as np\n",
        "from keras import utils\n",
        "from keras.models import Sequential\n",
        "from keras.layers import Dense, Dropout, Flatten, Conv2D, MaxPooling2D\n",
        "from sklearn.model_selection import train_test_split\n",
        "from sklearn.metrics import accuracy_score\n",
        "import matplotlib.pyplot as plt\n",
        "\n",
        "print(\"Imported!\")"
      ]
    },
    {
      "cell_type": "markdown",
      "metadata": {
        "id": "88Ck3TaksFD1"
      },
      "source": [
        "#Upload and Unzip Training Images"
      ]
    },
    {
      "cell_type": "code",
      "execution_count": null,
      "metadata": {
        "colab": {
          "base_uri": "https://localhost:8080/",
          "height": 107
        },
        "id": "nYteQqJrRYoS",
        "outputId": "59a41ca8-83f5-4f54-b542-f9e8a934859b"
      },
      "outputs": [
        {
          "data": {
            "text/html": [
              "\n",
              "     <input type=\"file\" id=\"files-ada16f36-c9d6-4a82-a124-9c81f368a383\" name=\"files[]\" multiple disabled\n",
              "        style=\"border:none\" />\n",
              "     <output id=\"result-ada16f36-c9d6-4a82-a124-9c81f368a383\">\n",
              "      Upload widget is only available when the cell has been executed in the\n",
              "      current browser session. Please rerun this cell to enable.\n",
              "      </output>\n",
              "      <script>// Copyright 2017 Google LLC\n",
              "//\n",
              "// Licensed under the Apache License, Version 2.0 (the \"License\");\n",
              "// you may not use this file except in compliance with the License.\n",
              "// You may obtain a copy of the License at\n",
              "//\n",
              "//      http://www.apache.org/licenses/LICENSE-2.0\n",
              "//\n",
              "// Unless required by applicable law or agreed to in writing, software\n",
              "// distributed under the License is distributed on an \"AS IS\" BASIS,\n",
              "// WITHOUT WARRANTIES OR CONDITIONS OF ANY KIND, either express or implied.\n",
              "// See the License for the specific language governing permissions and\n",
              "// limitations under the License.\n",
              "\n",
              "/**\n",
              " * @fileoverview Helpers for google.colab Python module.\n",
              " */\n",
              "(function(scope) {\n",
              "function span(text, styleAttributes = {}) {\n",
              "  const element = document.createElement('span');\n",
              "  element.textContent = text;\n",
              "  for (const key of Object.keys(styleAttributes)) {\n",
              "    element.style[key] = styleAttributes[key];\n",
              "  }\n",
              "  return element;\n",
              "}\n",
              "\n",
              "// Max number of bytes which will be uploaded at a time.\n",
              "const MAX_PAYLOAD_SIZE = 100 * 1024;\n",
              "\n",
              "function _uploadFiles(inputId, outputId) {\n",
              "  const steps = uploadFilesStep(inputId, outputId);\n",
              "  const outputElement = document.getElementById(outputId);\n",
              "  // Cache steps on the outputElement to make it available for the next call\n",
              "  // to uploadFilesContinue from Python.\n",
              "  outputElement.steps = steps;\n",
              "\n",
              "  return _uploadFilesContinue(outputId);\n",
              "}\n",
              "\n",
              "// This is roughly an async generator (not supported in the browser yet),\n",
              "// where there are multiple asynchronous steps and the Python side is going\n",
              "// to poll for completion of each step.\n",
              "// This uses a Promise to block the python side on completion of each step,\n",
              "// then passes the result of the previous step as the input to the next step.\n",
              "function _uploadFilesContinue(outputId) {\n",
              "  const outputElement = document.getElementById(outputId);\n",
              "  const steps = outputElement.steps;\n",
              "\n",
              "  const next = steps.next(outputElement.lastPromiseValue);\n",
              "  return Promise.resolve(next.value.promise).then((value) => {\n",
              "    // Cache the last promise value to make it available to the next\n",
              "    // step of the generator.\n",
              "    outputElement.lastPromiseValue = value;\n",
              "    return next.value.response;\n",
              "  });\n",
              "}\n",
              "\n",
              "/**\n",
              " * Generator function which is called between each async step of the upload\n",
              " * process.\n",
              " * @param {string} inputId Element ID of the input file picker element.\n",
              " * @param {string} outputId Element ID of the output display.\n",
              " * @return {!Iterable<!Object>} Iterable of next steps.\n",
              " */\n",
              "function* uploadFilesStep(inputId, outputId) {\n",
              "  const inputElement = document.getElementById(inputId);\n",
              "  inputElement.disabled = false;\n",
              "\n",
              "  const outputElement = document.getElementById(outputId);\n",
              "  outputElement.innerHTML = '';\n",
              "\n",
              "  const pickedPromise = new Promise((resolve) => {\n",
              "    inputElement.addEventListener('change', (e) => {\n",
              "      resolve(e.target.files);\n",
              "    });\n",
              "  });\n",
              "\n",
              "  const cancel = document.createElement('button');\n",
              "  inputElement.parentElement.appendChild(cancel);\n",
              "  cancel.textContent = 'Cancel upload';\n",
              "  const cancelPromise = new Promise((resolve) => {\n",
              "    cancel.onclick = () => {\n",
              "      resolve(null);\n",
              "    };\n",
              "  });\n",
              "\n",
              "  // Wait for the user to pick the files.\n",
              "  const files = yield {\n",
              "    promise: Promise.race([pickedPromise, cancelPromise]),\n",
              "    response: {\n",
              "      action: 'starting',\n",
              "    }\n",
              "  };\n",
              "\n",
              "  cancel.remove();\n",
              "\n",
              "  // Disable the input element since further picks are not allowed.\n",
              "  inputElement.disabled = true;\n",
              "\n",
              "  if (!files) {\n",
              "    return {\n",
              "      response: {\n",
              "        action: 'complete',\n",
              "      }\n",
              "    };\n",
              "  }\n",
              "\n",
              "  for (const file of files) {\n",
              "    const li = document.createElement('li');\n",
              "    li.append(span(file.name, {fontWeight: 'bold'}));\n",
              "    li.append(span(\n",
              "        `(${file.type || 'n/a'}) - ${file.size} bytes, ` +\n",
              "        `last modified: ${\n",
              "            file.lastModifiedDate ? file.lastModifiedDate.toLocaleDateString() :\n",
              "                                    'n/a'} - `));\n",
              "    const percent = span('0% done');\n",
              "    li.appendChild(percent);\n",
              "\n",
              "    outputElement.appendChild(li);\n",
              "\n",
              "    const fileDataPromise = new Promise((resolve) => {\n",
              "      const reader = new FileReader();\n",
              "      reader.onload = (e) => {\n",
              "        resolve(e.target.result);\n",
              "      };\n",
              "      reader.readAsArrayBuffer(file);\n",
              "    });\n",
              "    // Wait for the data to be ready.\n",
              "    let fileData = yield {\n",
              "      promise: fileDataPromise,\n",
              "      response: {\n",
              "        action: 'continue',\n",
              "      }\n",
              "    };\n",
              "\n",
              "    // Use a chunked sending to avoid message size limits. See b/62115660.\n",
              "    let position = 0;\n",
              "    do {\n",
              "      const length = Math.min(fileData.byteLength - position, MAX_PAYLOAD_SIZE);\n",
              "      const chunk = new Uint8Array(fileData, position, length);\n",
              "      position += length;\n",
              "\n",
              "      const base64 = btoa(String.fromCharCode.apply(null, chunk));\n",
              "      yield {\n",
              "        response: {\n",
              "          action: 'append',\n",
              "          file: file.name,\n",
              "          data: base64,\n",
              "        },\n",
              "      };\n",
              "\n",
              "      let percentDone = fileData.byteLength === 0 ?\n",
              "          100 :\n",
              "          Math.round((position / fileData.byteLength) * 100);\n",
              "      percent.textContent = `${percentDone}% done`;\n",
              "\n",
              "    } while (position < fileData.byteLength);\n",
              "  }\n",
              "\n",
              "  // All done.\n",
              "  yield {\n",
              "    response: {\n",
              "      action: 'complete',\n",
              "    }\n",
              "  };\n",
              "}\n",
              "\n",
              "scope.google = scope.google || {};\n",
              "scope.google.colab = scope.google.colab || {};\n",
              "scope.google.colab._files = {\n",
              "  _uploadFiles,\n",
              "  _uploadFilesContinue,\n",
              "};\n",
              "})(self);\n",
              "</script> "
            ],
            "text/plain": [
              "<IPython.core.display.HTML object>"
            ]
          },
          "metadata": {},
          "output_type": "display_data"
        },
        {
          "name": "stdout",
          "output_type": "stream",
          "text": [
            "Saving all_images.zip to all_images (1).zip\n",
            "Archive:  /content/all_images.zip\n",
            "replace /content/all_images/e424afc725a3488265fff1a5b99cd3c2.jpg? [y]es, [n]o, [A]ll, [N]one, [r]ename: N\n"
          ]
        }
      ],
      "source": [
        "files.upload() #Select all_images.zip\n",
        "!unzip /content/all_images.zip -d /content/"
      ]
    },
    {
      "cell_type": "markdown",
      "metadata": {
        "id": "-6sgu8Dl99l3"
      },
      "source": [
        "#Load and Preprocess Training Data"
      ]
    },
    {
      "cell_type": "code",
      "execution_count": null,
      "metadata": {
        "id": "RbcG_yICY4Au"
      },
      "outputs": [],
      "source": [
        "file_names = []\n",
        "directory_path = '/content/all_images'\n",
        "all_files = os.listdir(directory_path)\n",
        "suffixes = ('.jpg', '.jpeg')\n",
        "for file in all_files:\n",
        "    if file.endswith(suffixes):\n",
        "        file_names.append(file)\n",
        "\n",
        "sorted_file_names = sorted(file_names)\n",
        "\n",
        "resized_images = []\n",
        "\n",
        "desired_width = 256\n",
        "desired_height = 256\n",
        "\n",
        "for file_path in sorted_file_names:\n",
        "    file_path = \"/content/all_images/\" + file_path\n",
        "    image = cv2.imread(file_path)\n",
        "    resized_image = cv2.resize(image, (desired_width, desired_height))\n",
        "    resized_images.append(resized_image)"
      ]
    },
    {
      "cell_type": "markdown",
      "metadata": {
        "id": "zJqVy7Qp-OJt"
      },
      "source": [
        "#Sanity Check with a Funny Picture"
      ]
    },
    {
      "cell_type": "code",
      "execution_count": null,
      "metadata": {
        "colab": {
          "base_uri": "https://localhost:8080/",
          "height": 176
        },
        "id": "VDp0pQcDx3fJ",
        "outputId": "70d7bda2-8883-4361-9e6b-90ede48461ca"
      },
      "outputs": [
        {
          "data": {
            "image/png": "[encoded data removed]",
            "text/plain": [
              "<PIL.Image.Image image mode=RGB size=235x159>"
            ]
          },
          "metadata": {},
          "output_type": "display_data"
        }
      ],
      "source": [
        "image = cv2.imread(\"/content/all_images/\" + sorted_file_names[100])\n",
        "cv2_imshow(image)"
      ]
    },
    {
      "cell_type": "markdown",
      "metadata": {
        "id": "Z0PkgSty-TlS"
      },
      "source": [
        "#Load the Classification Data"
      ]
    },
    {
      "cell_type": "code",
      "execution_count": null,
      "metadata": {
        "colab": {
          "base_uri": "https://localhost:8080/"
        },
        "id": "W6ov6B_3_kcl",
        "outputId": "777d6ee2-140f-4356-8adf-26e2e476af6f"
      },
      "outputs": [
        {
          "name": "stdout",
          "output_type": "stream",
          "text": [
            "                                                   img  Spongebob  Patrick\n",
            "66                01452bf73ef61c24a7b95e925daf8a6a.jpg          0        1\n",
            "553           0162195b583f4913a31690f7462527a5 (1).jpg          0        1\n",
            "454               024b43099bc938b5eeebd5550225e8e4.jpg          1        0\n",
            "267               02a5dcf8007a09bb2283db196631a691.jpg          1        0\n",
            "34            03207ce4f437bc1f07c587477293ef5b (1).jpg          0        1\n",
            "..                                                 ...        ...      ...\n",
            "100  whimsical-editorial-vector-illustrations-spong...          1        0\n",
            "435  yogyakarta-indonesia-9-july-2023-260nw-2328884...          0        1\n",
            "584  yogyakarta-indonesia-9-july-2023-260nw-2328885...          1        0\n",
            "537  yogyakarta-indonesia-9-july-2023-260nw-2328885...          1        0\n",
            "668  yogyakarta-indonesia-9-july-2023-260nw-2328885...          1        0\n",
            "\n",
            "[1030 rows x 3 columns]\n"
          ]
        }
      ],
      "source": [
        "csv_filename = \"/content/assigned_classes.csv\"\n",
        "df = pd.read_csv(csv_filename)\n",
        "sorted_df = df.sort_values(by=\"img\")\n",
        "print(sorted_df)"
      ]
    },
    {
      "cell_type": "markdown",
      "metadata": {
        "id": "vvHbEM-8IfLx"
      },
      "source": [
        "#Create a DataFrame with the Class labels (For later use in creating a train/test split)"
      ]
    },
    {
      "cell_type": "code",
      "execution_count": null,
      "metadata": {
        "id": "GuuyENjDAn9P"
      },
      "outputs": [],
      "source": [
        "classes_list = []\n",
        "\n",
        "for index, row in sorted_df.iterrows():\n",
        "    if row[\"Spongebob\"] == 1:\n",
        "        classes_list.append(0)\n",
        "    else:\n",
        "        classes_list.append(1)"
      ]
    },
    {
      "cell_type": "code",
      "execution_count": null,
      "metadata": {
        "id": "901uLcnMAsLC"
      },
      "outputs": [],
      "source": [
        "classes_df = pd.DataFrame(classes_list)"
      ]
    },
    {
      "cell_type": "code",
      "execution_count": null,
      "metadata": {
        "id": "EXbuRaf5Y8Fl"
      },
      "outputs": [],
      "source": [
        "arr = np.array(resized_images)\n",
        "data_filepath = \"/content/Data.npy\"\n",
        "np.save(data_filepath, arr)"
      ]
    },
    {
      "cell_type": "code",
      "execution_count": null,
      "metadata": {
        "id": "GOLKF-9T-unt"
      },
      "outputs": [],
      "source": [
        "Data = np.load(data_filepath)"
      ]
    },
    {
      "cell_type": "markdown",
      "metadata": {
        "id": "CVs5mDc3Jkjb"
      },
      "source": [
        "# The shape of the training data"
      ]
    },
    {
      "cell_type": "code",
      "execution_count": null,
      "metadata": {
        "colab": {
          "base_uri": "https://localhost:8080/"
        },
        "id": "27Pq5Gh8-unt",
        "outputId": "c344f92d-713d-4323-a04b-164329274814"
      },
      "outputs": [
        {
          "data": {
            "text/plain": [
              "(1030, 256, 256, 3)"
            ]
          },
          "execution_count": 12,
          "metadata": {},
          "output_type": "execute_result"
        }
      ],
      "source": [
        "Data.shape"
      ]
    },
    {
      "cell_type": "code",
      "execution_count": null,
      "metadata": {
        "colab": {
          "base_uri": "https://localhost:8080/"
        },
        "id": "weSsn4aSA9WX",
        "outputId": "dc78cdf2-e4e0-436a-fb12-6e6802ee662e"
      },
      "outputs": [
        {
          "data": {
            "text/plain": [
              "(1030, 1)"
            ]
          },
          "execution_count": 14,
          "metadata": {},
          "output_type": "execute_result"
        }
      ],
      "source": [
        "classes_df.shape"
      ]
    },
    {
      "cell_type": "markdown",
      "metadata": {
        "id": "rMxaMn5zDXHJ"
      },
      "source": [
        "#More Training Data Processing"
      ]
    },
    {
      "cell_type": "code",
      "execution_count": null,
      "metadata": {
        "id": "zTuzLeiD-unu"
      },
      "outputs": [],
      "source": [
        "X_train, X_test, y_train, y_test = train_test_split(Data/255., classes_df, test_size=0.1, random_state=0)"
      ]
    },
    {
      "cell_type": "code",
      "execution_count": null,
      "metadata": {
        "id": "YWzT6zEG-unu"
      },
      "outputs": [],
      "source": [
        "y_train_cnn = utils.to_categorical(y_train)\n",
        "y_test_cnn = utils.to_categorical(y_test)\n",
        "num_classes = y_test_cnn.shape[1]"
      ]
    },
    {
      "cell_type": "code",
      "execution_count": null,
      "metadata": {
        "id": "ivG3v7zj-unv"
      },
      "outputs": [],
      "source": [
        "X_train_cnn = X_train.reshape(X_train.shape[0], 256,256,3).astype('float32')\n",
        "X_test_cnn = X_test.reshape(X_test.shape[0], 256, 256,3).astype('float32')"
      ]
    },
    {
      "cell_type": "markdown",
      "metadata": {
        "id": "lAvdh0dFaKLW"
      },
      "source": [
        "#Images have been split into training and testing data"
      ]
    },
    {
      "cell_type": "code",
      "execution_count": null,
      "metadata": {
        "colab": {
          "base_uri": "https://localhost:8080/"
        },
        "id": "wtaC6pVX-unv",
        "outputId": "f0390680-66d0-4611-80b6-f61d3cef457d"
      },
      "outputs": [
        {
          "data": {
            "text/plain": [
              "(927, 256, 256, 3)"
            ]
          },
          "execution_count": 37,
          "metadata": {},
          "output_type": "execute_result"
        }
      ],
      "source": [
        "X_train_cnn.shape"
      ]
    },
    {
      "cell_type": "code",
      "execution_count": null,
      "metadata": {
        "colab": {
          "base_uri": "https://localhost:8080/"
        },
        "id": "YEUu_ZLP-unv",
        "outputId": "355fc2c7-e8f6-4dcd-b031-c8caf3c9de05"
      },
      "outputs": [
        {
          "data": {
            "text/plain": [
              "(103, 256, 256, 3)"
            ]
          },
          "execution_count": 38,
          "metadata": {},
          "output_type": "execute_result"
        }
      ],
      "source": [
        "X_test_cnn.shape"
      ]
    },
    {
      "cell_type": "markdown",
      "metadata": {
        "id": "vgV-BeJWDfKq"
      },
      "source": [
        "#Define the CNN model!\n",
        "##Layers and activation functions can be found at [keras](https://keras.io/api/layers)\n",
        "###Try playing around with the following settings in the models below:\n",
        "\n",
        "*   Activation function: relu, sigmoid, linear\n",
        "*   Remove or Add more layers\n",
        "*   Change the dropout values (0.1-0.9)\n",
        "\n"
      ]
    },
    {
      "cell_type": "code",
      "execution_count": null,
      "metadata": {
        "id": "EswSgoQS-unw"
      },
      "outputs": [],
      "source": [
        "def cnn_model():\n",
        "    model = Sequential()\n",
        "    model.add(Conv2D(32, (3, 3), input_shape=(256,256,3), activation = 'relu'))\n",
        "    model.add(Conv2D(32, (3, 3), activation = 'relu'))\n",
        "    model.add(MaxPooling2D(pool_size=(2, 2)))\n",
        "    model.add(Dropout(0.25))\n",
        "    model.add(Conv2D(64, (3, 3), activation = 'relu'))\n",
        "    model.add(Conv2D(64, (3, 3), activation = 'relu'))\n",
        "    model.add(MaxPooling2D(pool_size=(2, 2)))\n",
        "    model.add(Dropout(0.25))\n",
        "\n",
        "\n",
        "    model.add(Flatten())\n",
        "\n",
        "\n",
        "    model.add(Dropout(0.5))\n",
        "\n",
        "    model.add(Dense(2, activation= 'softmax'))\n",
        "\n",
        "    optimizer = keras.optimizers.Adam()\n",
        "    model.compile(loss='categorical_crossentropy',\n",
        "              optimizer=optimizer,\n",
        "              metrics=['accuracy'])\n",
        "    return model"
      ]
    },
    {
      "cell_type": "code",
      "execution_count": null,
      "metadata": {
        "id": "9M1lfSiZckB9"
      },
      "outputs": [],
      "source": [
        "def linear_cnn_model():\n",
        "    model = Sequential()\n",
        "    model.add(Conv2D(32, (3, 3), input_shape=(256,256,3), activation = 'linear'))\n",
        "    model.add(Conv2D(32, (3, 3), activation = 'linear'))\n",
        "    model.add(MaxPooling2D(pool_size=(2, 2)))\n",
        "    model.add(Dropout(0.25))\n",
        "    model.add(Conv2D(64, (3, 3), activation = 'linear'))\n",
        "    model.add(Conv2D(64, (3, 3), activation = 'linear'))\n",
        "    model.add(MaxPooling2D(pool_size=(2, 2)))\n",
        "    model.add(Dropout(0.25))\n",
        "\n",
        "\n",
        "    model.add(Flatten())\n",
        "\n",
        "\n",
        "    model.add(Dropout(0.5))\n",
        "\n",
        "    model.add(Dense(2, activation= 'softmax'))\n",
        "\n",
        "    optimizer = keras.optimizers.Adam()\n",
        "    model.compile(loss='categorical_crossentropy',\n",
        "              optimizer=optimizer,\n",
        "              metrics=['accuracy'])\n",
        "    return model"
      ]
    },
    {
      "cell_type": "code",
      "execution_count": null,
      "metadata": {
        "id": "gkfXbPuIcyim"
      },
      "outputs": [],
      "source": [
        "def sigmoid_cnn_model():\n",
        "    model = Sequential()\n",
        "    model.add(Conv2D(32, (3, 3), input_shape=(256,256,3), activation = 'sigmoid'))\n",
        "    model.add(Conv2D(32, (3, 3), activation = 'sigmoid'))\n",
        "    model.add(MaxPooling2D(pool_size=(2, 2)))\n",
        "    model.add(Dropout(0.25))\n",
        "    model.add(Conv2D(64, (3, 3), activation = 'sigmoid'))\n",
        "    model.add(Conv2D(64, (3, 3), activation = 'sigmoid'))\n",
        "    model.add(MaxPooling2D(pool_size=(2, 2)))\n",
        "    model.add(Dropout(0.25))\n",
        "\n",
        "\n",
        "    model.add(Flatten())\n",
        "\n",
        "\n",
        "    model.add(Dropout(0.5))\n",
        "\n",
        "    model.add(Dense(2, activation= 'softmax'))\n",
        "\n",
        "    optimizer = keras.optimizers.Adam()\n",
        "    model.compile(loss='categorical_crossentropy',\n",
        "              optimizer=optimizer,\n",
        "              metrics=['accuracy'])\n",
        "    return model"
      ]
    },
    {
      "cell_type": "markdown",
      "metadata": {
        "id": "Z_pFLwDpDkaq"
      },
      "source": [
        "#Create A Model Instance, Train, and Evaluate\n",
        "## Try increasing the number of epochs or the validation split"
      ]
    },
    {
      "cell_type": "code",
      "execution_count": null,
      "metadata": {
        "id": "0P4d2V7V-unw"
      },
      "outputs": [],
      "source": [
        "print(\"[INFO] creating model...\")\n",
        "model = cnn_model() #change model here by calling different function\n",
        "# Fit the model\n",
        "print(\"[INFO] training model...\")\n",
        "records = model.fit(X_train_cnn, y_train_cnn, validation_split=0.1, epochs=1, batch_size=16)\n",
        "# Final evaluation of the model\n",
        "print(\"[INFO] evaluating model...\")\n",
        "scores = model.evaluate(X_test_cnn, y_test_cnn, verbose=0)\n",
        "print('Final CNN accuracy: ', scores[1])"
      ]
    },
    {
      "cell_type": "markdown",
      "metadata": {
        "id": "-wbVadb5fbp6"
      },
      "source": [
        "#Save the model for later use or to have multiple trained models"
      ]
    },
    {
      "cell_type": "code",
      "execution_count": null,
      "metadata": {
        "colab": {
          "base_uri": "https://localhost:8080/"
        },
        "id": "2o3FH2FQ-unw",
        "outputId": "f0276b36-b49c-4780-e6e8-27dd27158cc4"
      },
      "outputs": [
        {
          "name": "stdout",
          "output_type": "stream",
          "text": [
            "[INFO] saving model...\n"
          ]
        }
      ],
      "source": [
        "print(\"[INFO] saving model...\")\n",
        "model.save(\"my_model.keras\") #change name if you want to save multiple models (will dissapear when runtime ends)"
      ]
    },
    {
      "cell_type": "markdown",
      "metadata": {
        "id": "FC4Pqlqxjj1e"
      },
      "source": [
        "#Frontend"
      ]
    },
    {
      "cell_type": "markdown",
      "metadata": {
        "id": "Qk2M5IUihqEl"
      },
      "source": [
        "#Download necessary files for frontend"
      ]
    },
    {
      "cell_type": "code",
      "execution_count": null,
      "metadata": {
        "id": "vKC_O7UXA8Fu"
      },
      "outputs": [],
      "source": [
        "#Upload webfolders.zip to collab and unzip its contents\n",
        "from google.colab import files\n",
        "files.upload() #Select web_folders.zip\n",
        "!unzip /content/webfolders.zip -d /content/"
      ]
    },
    {
      "cell_type": "markdown",
      "metadata": {
        "id": "3aUDvE2JfQmu"
      },
      "source": [
        "#Download dependency for running frontend"
      ]
    },
    {
      "cell_type": "code",
      "execution_count": null,
      "metadata": {
        "colab": {
          "base_uri": "https://localhost:8080/"
        },
        "id": "VDY9E3-aCxAj",
        "outputId": "0766be63-5c97-4ea9-95ec-f1428b20dcfc"
      },
      "outputs": [
        {
          "name": "stdout",
          "output_type": "stream",
          "text": [
            "Collecting pyngrok\n",
            "  Downloading pyngrok-7.1.4-py3-none-any.whl (22 kB)\n",
            "Requirement already satisfied: PyYAML>=5.1 in /usr/local/lib/python3.10/dist-packages (from pyngrok) (6.0.1)\n",
            "Installing collected packages: pyngrok\n",
            "Successfully installed pyngrok-7.1.4\n"
          ]
        }
      ],
      "source": [
        "!pip install pyngrok\n",
        "#Sign up for ngrok or login at https://dashboard.ngrok.com/login\n",
        "#Using your iastate account through google or personal\n",
        "#Get your Authtoken at https://dashboard.ngrok.com/auth"
      ]
    },
    {
      "cell_type": "markdown",
      "metadata": {
        "id": "EnQ0RAfWfXES"
      },
      "source": [
        "#Make flask app and run!"
      ]
    },
    {
      "cell_type": "code",
      "execution_count": null,
      "metadata": {
        "colab": {
          "background_save": true,
          "base_uri": "https://localhost:8080/"
        },
        "id": "w1IWNY2z-unx",
        "outputId": "5d132913-5a3e-4515-808e-27516503ec28"
      },
      "outputs": [
        {
          "name": "stdout",
          "output_type": "stream",
          "text": [
            "Enter your authtoken, which can be copied from https://dashboard.ngrok.com/auth\n"
          ]
        }
      ],
      "source": [
        "from flask import Flask, render_template, request, redirect, url_for, send_from_directory\n",
        "from pyngrok import ngrok, conf\n",
        "import tensorflow as tf\n",
        "import cv2, os, getpass\n",
        "import numpy as np\n",
        "\n",
        "app = Flask(__name__, template_folder=\"./templates\")\n",
        "UPLOAD_FOLDER = os.path.join(os.getcwd(), \"uploads\")\n",
        "ALLOWED_EXTENSIONS = {\"jpg\", \"png\", \"gif\", \"jpeg\"}\n",
        "port = \"5000\"\n",
        "\n",
        "print(\"Enter your authtoken, which can be copied from https://dashboard.ngrok.com/auth\")\n",
        "conf.get_default().auth_token = getpass.getpass()\n",
        "\n",
        "# Open a ngrok tunnel to the HTTP server\n",
        "public_url = ngrok.connect(port).public_url\n",
        "print(f\" * ngrok tunnel \\\"{public_url}\\\" -> \\\"http://127.0.0.1:{port}\\\"\")\n",
        "\n",
        "app.config[\"UPLOAD_FOLDER\"] = UPLOAD_FOLDER\n",
        "app.config[\"BASE_URL\"] = public_url\n",
        "\n",
        "model = tf.keras.models.load_model(\"./my_model.keras\") #change file name to different model if desired\n",
        "\n",
        "def recognize_character(image_path):\n",
        "    # Load the pre-trained model\n",
        "    # Load the input image\n",
        "    input_image = cv2.imread(image_path)\n",
        "\n",
        "    # dimensions for resizing the image to the CNN's input layer's specifications\n",
        "    desired_width = 256\n",
        "    desired_height = 256\n",
        "\n",
        "    # Resize the input image\n",
        "    resized_image = cv2.resize(input_image, (desired_width, desired_height))\n",
        "    resized_image = np.expand_dims(resized_image, axis=0)\n",
        "\n",
        "    # Perform image recognition\n",
        "    prediction = model.predict(resized_image)\n",
        "    class_labels = [\"Spongebob\", \"Patrick\"]\n",
        "\n",
        "    # Get the predicted label\n",
        "    predicted_label = class_labels[prediction.argmax()]\n",
        "\n",
        "    return predicted_label\n",
        "\n",
        "\n",
        "def allowed_file(filename):\n",
        "    return \".\" in filename and filename.rsplit(\".\", 1)[1].lower() in ALLOWED_EXTENSIONS\n",
        "\n",
        "\n",
        "@app.route(\"/\", methods=[\"GET\", \"POST\"])\n",
        "def index():\n",
        "    if request.method == \"POST\":\n",
        "        # Check if a file is uploaded\n",
        "        if \"file\" not in request.files:\n",
        "            return redirect(\n",
        "                request.url\n",
        "            )  # used in the Flask framework to redirect the user's browser to the URL specified in the request.url variable\n",
        "\n",
        "        file = request.files[\"file\"]\n",
        "\n",
        "        if file.filename == \"\":\n",
        "            return redirect(request.url)\n",
        "\n",
        "        if file and allowed_file(file.filename):\n",
        "            # Save the uploaded file\n",
        "            filename = os.path.join(app.config[\"UPLOAD_FOLDER\"], file.filename)\n",
        "            file.save(filename)\n",
        "\n",
        "            # Perform image recognition here (not implemented in this example)\n",
        "\n",
        "            # Redirect to the result page with the image filename\n",
        "            return redirect(url_for(\"result_loader\", filename=file.filename))\n",
        "\n",
        "    return render_template(\"index.html\")\n",
        "\n",
        "\n",
        "@app.route(\"/result/<filename>\")\n",
        "def result(filename):\n",
        "    # Perform image recognition and character detection here\n",
        "    # You can pass the detected character as a variable to the template\n",
        "    image_path = os.path.join(app.config[\"UPLOAD_FOLDER\"], filename)\n",
        "    detected_character = recognize_character(image_path)  # Call your recognition code\n",
        "    return render_template(\n",
        "        \"result.html\", filename=filename, detected_character=detected_character\n",
        "    )\n",
        "\n",
        "\n",
        "@app.route(\"/result_loader/<filename>\")\n",
        "def result_loader(filename):\n",
        "    return render_template(\"result_loader.html\", filename=filename)\n",
        "\n",
        "\n",
        "@app.route(\"/uploads/<filename>\")\n",
        "def uploaded_file(filename):\n",
        "    return send_from_directory(app.config[\"UPLOAD_FOLDER\"], filename)\n",
        "\n",
        "app.run()"
      ]
    }
  ],
  "metadata": {
    "colab": {
      "provenance": []
    },
    "kernelspec": {
      "display_name": "Python 3",
      "language": "python",
      "name": "python3"
    },
    "language_info": {
      "codemirror_mode": {
        "name": "ipython",
        "version": 3
      },
      "file_extension": ".py",
      "mimetype": "text/x-python",
      "name": "python",
      "nbconvert_exporter": "python",
      "pygments_lexer": "ipython3",
      "version": "3.7.0"
    }
  },
  "nbformat": 4,
  "nbformat_minor": 0
}